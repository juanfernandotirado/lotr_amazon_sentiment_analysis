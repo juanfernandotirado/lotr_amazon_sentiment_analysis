{
 "cells": [
  {
   "cell_type": "code",
   "execution_count": 13,
   "metadata": {},
   "outputs": [
    {
     "name": "stderr",
     "output_type": "stream",
     "text": [
      "[nltk_data] Downloading package vader_lexicon to\n",
      "[nltk_data]     /Users/juanfernandotirado/nltk_data...\n"
     ]
    }
   ],
   "source": [
    "import nltk\n",
    "nltk.download('vader_lexicon')\n",
    "from nltk.sentiment.vader import SentimentIntensityAnalyzer\n",
    "import pandas as pd"
   ]
  },
  {
   "cell_type": "code",
   "execution_count": 14,
   "metadata": {},
   "outputs": [
    {
     "name": "stdout",
     "output_type": "stream",
     "text": [
      "                Name                                            Comment  \\\n",
      "0  Adrian Cunningham  The Witcher can kiss my shiny white ass! Time ...   \n",
      "1           MyAcer20  i hope they dont fuck it up like ghost busters...   \n",
      "\n",
      "                   Time  Likes  Reply Count  \n",
      "0  2021-09-16T22:10:28Z      0            0  \n",
      "1  2021-09-16T19:13:38Z      0            0  \n"
     ]
    }
   ],
   "source": [
    "comments = pd.read_csv(\"nerdist.csv\")\n",
    "print(comments.head(2))"
   ]
  },
  {
   "cell_type": "code",
   "execution_count": 20,
   "metadata": {},
   "outputs": [
    {
     "name": "stdout",
     "output_type": "stream",
     "text": [
      "0    The Witcher can kiss my shiny white ass! Time ...\n",
      "1    i hope they dont fuck it up like ghost busters...\n",
      "Name: Comment_clean, dtype: object\n"
     ]
    }
   ],
   "source": [
    "import re\n",
    "\n",
    "comments['Comment_clean'] = comments['Comment'].apply(lambda x: re.sub(r'[|$|,|-|*|<|>#]',r'',x))\n",
    "\n",
    "print(comments['Comment_clean'].head(2))"
   ]
  },
  {
   "cell_type": "code",
   "execution_count": 21,
   "metadata": {},
   "outputs": [
    {
     "name": "stdout",
     "output_type": "stream",
     "text": [
      "                Name                                            Comment  \\\n",
      "0  Adrian Cunningham  The Witcher can kiss my shiny white ass! Time ...   \n",
      "1           MyAcer20  i hope they dont fuck it up like ghost busters...   \n",
      "\n",
      "                   Time  Likes  Reply Count   score  \\\n",
      "0  2021-09-16T22:10:28Z      0            0  0.3987   \n",
      "1  2021-09-16T19:13:38Z      0            0  0.8881   \n",
      "\n",
      "                                       Comment_clean  \n",
      "0  The Witcher can kiss my shiny white ass! Time ...  \n",
      "1  i hope they dont fuck it up like ghost busters...  \n"
     ]
    }
   ],
   "source": [
    "sia = SentimentIntensityAnalyzer()\n",
    "\n",
    "comments['score'] = comments['Comment_clean'].apply(lambda i: sia.polarity_scores(i)['compound'])\n",
    "comments.to_csv(\"nerdiest_sentiments\")\n",
    "print(comments.head(2))"
   ]
  },
  {
   "cell_type": "code",
   "execution_count": null,
   "metadata": {},
   "outputs": [],
   "source": []
  }
 ],
 "metadata": {
  "kernelspec": {
   "display_name": "Python 3",
   "language": "python",
   "name": "python3"
  },
  "language_info": {
   "codemirror_mode": {
    "name": "ipython",
    "version": 3
   },
   "file_extension": ".py",
   "mimetype": "text/x-python",
   "name": "python",
   "nbconvert_exporter": "python",
   "pygments_lexer": "ipython3",
   "version": "3.7.4"
  }
 },
 "nbformat": 4,
 "nbformat_minor": 2
}
